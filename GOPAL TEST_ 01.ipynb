{
 "cells": [
  {
   "cell_type": "code",
   "execution_count": null,
   "id": "3f85e0ec",
   "metadata": {},
   "outputs": [],
   "source": [
    "1. Write a python program to convert a string to lower case"
   ]
  },
  {
   "cell_type": "code",
   "execution_count": 1,
   "id": "f9470c6e",
   "metadata": {},
   "outputs": [
    {
     "name": "stdout",
     "output_type": "stream",
     "text": [
      "PYTHON\n"
     ]
    },
    {
     "data": {
      "text/plain": [
       "'python'"
      ]
     },
     "execution_count": 1,
     "metadata": {},
     "output_type": "execute_result"
    }
   ],
   "source": [
    "s=input(\"\")\n",
    "s.lower()"
   ]
  },
  {
   "cell_type": "code",
   "execution_count": null,
   "id": "3e958f9b",
   "metadata": {},
   "outputs": [],
   "source": []
  },
  {
   "cell_type": "markdown",
   "id": "727f1d8c",
   "metadata": {},
   "source": [
    "2. Write a python program to convert only odd indexed characters to lower case\n",
    "\n",
    "Ex: PYTHON\n",
    "\n",
    "Output: - PyThOn"
   ]
  },
  {
   "cell_type": "code",
   "execution_count": 2,
   "id": "bb033d3b",
   "metadata": {},
   "outputs": [
    {
     "name": "stdout",
     "output_type": "stream",
     "text": [
      "PYTHON\n",
      "PyThOn\n"
     ]
    }
   ],
   "source": [
    "s=input(\"\")\n",
    "t=\"\"\n",
    "for i in range(len(s)):\n",
    "    if i%2==0:\n",
    "        t=t+s[i].upper()\n",
    "    else:\n",
    "        t=t+s[i].lower()\n",
    "print(t)"
   ]
  },
  {
   "cell_type": "code",
   "execution_count": null,
   "id": "10d31919",
   "metadata": {},
   "outputs": [],
   "source": []
  },
  {
   "cell_type": "markdown",
   "id": "bd5c6210",
   "metadata": {},
   "source": [
    "3. Write a python program to convert only even indexed characters to lower case\n",
    "\n",
    "Ex: PYTHON\n",
    "\n",
    "Output: - pYtHoN\n"
   ]
  },
  {
   "cell_type": "code",
   "execution_count": 3,
   "id": "27adecf7",
   "metadata": {},
   "outputs": [
    {
     "name": "stdout",
     "output_type": "stream",
     "text": [
      "PYTHON\n",
      "pYtHoN\n"
     ]
    }
   ],
   "source": [
    "s=input(\"\")\n",
    "t=\"\"\n",
    "for i in range(len(s)):\n",
    "    if i%2==0:\n",
    "        t=t+s[i].lower()\n",
    "    else:\n",
    "        t=t+s[i].upper()\n",
    "print(t)"
   ]
  },
  {
   "cell_type": "code",
   "execution_count": null,
   "id": "13f5da8c",
   "metadata": {},
   "outputs": [],
   "source": []
  },
  {
   "cell_type": "markdown",
   "id": "eea021ff",
   "metadata": {},
   "source": [
    "4. Write a python program to convert only odd indexed characters to upper case\n",
    "\n",
    "Ex: python\n",
    "\n",
    "Output: pYtHoN"
   ]
  },
  {
   "cell_type": "code",
   "execution_count": 7,
   "id": "09742e95",
   "metadata": {},
   "outputs": [
    {
     "name": "stdout",
     "output_type": "stream",
     "text": [
      "python\n",
      "pYtHoN\n"
     ]
    }
   ],
   "source": [
    "s=input(\"\")\n",
    "t=\"\"\n",
    "for i in range(len(s)):\n",
    "    if i%2!=0:\n",
    "        t=t+s[i].upper()\n",
    "    else:\n",
    "        t=t+s[i].lower()\n",
    "print(t)"
   ]
  },
  {
   "cell_type": "code",
   "execution_count": null,
   "id": "b22fe13f",
   "metadata": {},
   "outputs": [],
   "source": []
  },
  {
   "cell_type": "markdown",
   "id": "3d34228b",
   "metadata": {},
   "source": [
    "5. Write a python program to convert only even indexed characters to upper case\n",
    "\n",
    "Ex: python\n",
    "\n",
    "Output: - PyThOn"
   ]
  },
  {
   "cell_type": "code",
   "execution_count": 5,
   "id": "c16577a8",
   "metadata": {},
   "outputs": [
    {
     "name": "stdout",
     "output_type": "stream",
     "text": [
      "python\n",
      "PyThOn\n"
     ]
    }
   ],
   "source": [
    "s=input(\"\")\n",
    "t=\"\"\n",
    "for i in range(len(s)):\n",
    "    if i%2!=0:\n",
    "        t=t+s[i].lower()\n",
    "    else:\n",
    "        t=t+s[i].upper()\n",
    "print(t)"
   ]
  },
  {
   "cell_type": "code",
   "execution_count": null,
   "id": "3d7878b9",
   "metadata": {},
   "outputs": [],
   "source": []
  },
  {
   "cell_type": "markdown",
   "id": "eeb2b40c",
   "metadata": {},
   "source": [
    "6. Write a python program where you have different variable which contains your \n",
    "name, gender, age, phone number, father’s name and mother’s name.\n",
    "And by using this variable create a variable named bio-data where you will use all\n",
    "this variable\n",
    "\n",
    "Ex: print(bio-data)\n",
    "\n",
    "Output:- My name is …., My age is ….,My phone-no is ….,my father’s name is …,and my mother’s name is…\n"
   ]
  },
  {
   "cell_type": "code",
   "execution_count": 31,
   "id": "887deaed",
   "metadata": {},
   "outputs": [
    {
     "name": "stdout",
     "output_type": "stream",
     "text": [
      "My name is:gopala swamy\n",
      "my age is:25\n",
      "my phone no is:8341900320\n",
      "my father's name is:ajay gosh\n",
      "my mother's nameis:aruna\n",
      "my name is {0} I am {1} and my age is {2} , my phone no is {3} and my father name is {4} and mother name is {5}\n"
     ]
    }
   ],
   "source": [
    "name=input(\"My name is:\")\n",
    "age=int(input(\"my age is:\"))\n",
    "phone_no=int(input(\"my phone no is:\"))\n",
    "father_name=input(\"my father's name is:\")\n",
    "mother_name=input(\"my mother's nameis:\")\n",
    "print(bio_data)"
   ]
  },
  {
   "cell_type": "code",
   "execution_count": null,
   "id": "70c4b5a1",
   "metadata": {},
   "outputs": [],
   "source": []
  },
  {
   "cell_type": "markdown",
   "id": "a38e5598",
   "metadata": {},
   "source": [
    "7. Write a python program to count how many times “@” occurred\n",
    "\n",
    "\n",
    "Ex: S@ndhy@\n",
    "\n",
    "Output: 2"
   ]
  },
  {
   "cell_type": "code",
   "execution_count": 33,
   "id": "5214b101",
   "metadata": {},
   "outputs": [
    {
     "name": "stdout",
     "output_type": "stream",
     "text": [
      "s@ndhy@\n",
      "2\n"
     ]
    }
   ],
   "source": [
    "s=input(\"\")\n",
    "t=s.count(\"@\")\n",
    "print(t)"
   ]
  },
  {
   "cell_type": "code",
   "execution_count": null,
   "id": "b8b2f54a",
   "metadata": {},
   "outputs": [],
   "source": []
  },
  {
   "cell_type": "markdown",
   "id": "da891c20",
   "metadata": {},
   "source": [
    "8. Write a python program to get only names from the string\n",
    "\n",
    "\n",
    "Ex: “name1.@gmail.com, name2.@gmail.com, name#3.@gmail.com”\n",
    "\n",
    "Output-name1, name2, name3"
   ]
  },
  {
   "cell_type": "code",
   "execution_count": 28,
   "id": "cbe409ac",
   "metadata": {},
   "outputs": [
    {
     "data": {
      "text/plain": [
       "'name1 ,name2 ,name3 '"
      ]
     },
     "execution_count": 28,
     "metadata": {},
     "output_type": "execute_result"
    }
   ],
   "source": [
    "a='name1.@gmail.com,name2.@gmail.com,name3.@gmail.com'\n",
    "b=a.split(\".@gmail.com\")\n",
    "c=\" \".join(b)\n",
    "c"
   ]
  },
  {
   "cell_type": "code",
   "execution_count": null,
   "id": "14699987",
   "metadata": {},
   "outputs": [],
   "source": []
  },
  {
   "cell_type": "markdown",
   "id": "c2f523e6",
   "metadata": {},
   "source": [
    "9. Write a program to remove vowels from the entire alphabets\n",
    "\n",
    "\n",
    "Ex: “abcdefghijklmnopqrstuvwxyz”\n",
    "\n",
    "Output: “bcdfghjklmnpqrstvwxyz”\n",
    "\n"
   ]
  },
  {
   "cell_type": "code",
   "execution_count": 19,
   "id": "387f9664",
   "metadata": {},
   "outputs": [
    {
     "data": {
      "text/plain": [
       "'bcdfghjklmnpqrstvwxyz'"
      ]
     },
     "execution_count": 19,
     "metadata": {},
     "output_type": "execute_result"
    }
   ],
   "source": [
    "a=\"abcdefghijklmnopqrstuvwxyz\"\n",
    "b=[\"a\",\"e\",\"i\",\"o\",\"u\"]\n",
    "s=[]\n",
    "for i in a:\n",
    "    if i not in b:\n",
    "        s.append(i)\n",
    "t=''.join(s)\n",
    "t"
   ]
  },
  {
   "cell_type": "code",
   "execution_count": null,
   "id": "f27aec10",
   "metadata": {},
   "outputs": [],
   "source": []
  },
  {
   "cell_type": "markdown",
   "id": "2bc2fb2e",
   "metadata": {},
   "source": [
    "10. Find all occurrences of a substring in a given string by ignoring the case\n",
    "\n",
    "\n",
    "Ex: str1 = \"Welcome to Innomatics. innomatics awesome, isn't it?\"\n",
    "\n",
    "Output: The innomatics count is: 2"
   ]
  },
  {
   "cell_type": "code",
   "execution_count": 1,
   "id": "3eef2a93",
   "metadata": {},
   "outputs": [
    {
     "name": "stdout",
     "output_type": "stream",
     "text": [
      "the count repated words: 2\n"
     ]
    }
   ],
   "source": [
    "str1=\"Welcome to Innomatics.innomatics\"\n",
    "str1=str1.lower()\n",
    "sub_string=\"innomatics\"\n",
    "count=str1.count(sub_string)\n",
    "print(\"the count repated words:\",count)\n"
   ]
  },
  {
   "cell_type": "code",
   "execution_count": null,
   "id": "866a6610",
   "metadata": {},
   "outputs": [],
   "source": []
  }
 ],
 "metadata": {
  "kernelspec": {
   "display_name": "Python 3 (ipykernel)",
   "language": "python",
   "name": "python3"
  },
  "language_info": {
   "codemirror_mode": {
    "name": "ipython",
    "version": 3
   },
   "file_extension": ".py",
   "mimetype": "text/x-python",
   "name": "python",
   "nbconvert_exporter": "python",
   "pygments_lexer": "ipython3",
   "version": "3.9.12"
  }
 },
 "nbformat": 4,
 "nbformat_minor": 5
}
